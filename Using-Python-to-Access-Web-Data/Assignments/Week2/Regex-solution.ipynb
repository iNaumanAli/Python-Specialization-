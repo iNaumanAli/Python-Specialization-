{
 "cells": [
  {
   "cell_type": "code",
   "execution_count": 1,
   "metadata": {},
   "outputs": [
    {
     "name": "stdout",
     "output_type": "stream",
     "text": [
      "408440.0\n"
     ]
    }
   ],
   "source": []
  },
  {
   "cell_type": "code",
   "execution_count": 2,
   "metadata": {},
   "outputs": [
    {
     "name": "stdout",
     "output_type": "stream",
     "text": [
      "408440.0\n"
     ]
    }
   ],
   "source": [
    "import re\n",
    "\n",
    "#Extracting Digits and Summing them\n",
    "fhand = open(\"actual.txt\")\n",
    "numlist = []\n",
    "for line in fhand:\n",
    "    line = line.rstrip()\n",
    "    extractData = re.findall(\"([0-9]+)\", line)\n",
    "    if len(extractData) < 1:\n",
    "        continue\n",
    "    for i in range(len(extractData)):\n",
    "        num = float(extractData[i])\n",
    "        numlist.append(num)\n",
    "print(sum(numlist))\n",
    "        "
   ]
  },
  {
   "cell_type": "code",
   "execution_count": null,
   "metadata": {},
   "outputs": [],
   "source": []
  }
 ],
 "metadata": {
  "kernelspec": {
   "display_name": "Python 3",
   "language": "python",
   "name": "python3"
  },
  "language_info": {
   "codemirror_mode": {
    "name": "ipython",
    "version": 3
   },
   "file_extension": ".py",
   "mimetype": "text/x-python",
   "name": "python",
   "nbconvert_exporter": "python",
   "pygments_lexer": "ipython3",
   "version": "3.7.4"
  }
 },
 "nbformat": 4,
 "nbformat_minor": 2
}
